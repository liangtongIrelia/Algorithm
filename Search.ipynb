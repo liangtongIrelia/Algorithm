{
 "cells": [
  {
   "cell_type": "code",
   "execution_count": 1,
   "metadata": {},
   "outputs": [],
   "source": [
    "#二分查找左边界\n",
    "def binarySearch_left(nums,target):\n",
    "    left = 0\n",
    "    right = len(nums)-1\n",
    "    while left < right:\n",
    "        mid = left+right >> 1\n",
    "        if nums[mid] < target:\n",
    "            left = mid+1\n",
    "        else:\n",
    "            right = mid\n",
    "    if nums[left] == target:\n",
    "        return left\n",
    "    else:\n",
    "        return -1\n",
    "# 二分查找右边界\n",
    "def binarySearch_right(nums,target):\n",
    "    left = 0\n",
    "    right = len(nums)-1\n",
    "    while left < right:\n",
    "        mid = (left+right+1) >> 1\n",
    "        if nums[mid] > target:\n",
    "            right = mid-1\n",
    "        else:\n",
    "            left = mid\n",
    "    if nums[left] == target:\n",
    "        return left\n",
    "    else:\n",
    "        return -1\n",
    "        \n",
    "            "
   ]
  },
  {
   "cell_type": "code",
   "execution_count": 2,
   "metadata": {},
   "outputs": [
    {
     "data": {
      "text/plain": [
       "4"
      ]
     },
     "execution_count": 2,
     "metadata": {},
     "output_type": "execute_result"
    }
   ],
   "source": [
    "binarySearch_right([1,2,3,3,3,4,5,6],3)"
   ]
  },
  {
   "cell_type": "code",
   "execution_count": null,
   "metadata": {},
   "outputs": [],
   "source": []
  }
 ],
 "metadata": {
  "kernelspec": {
   "display_name": "Python 3",
   "language": "python",
   "name": "python3"
  },
  "language_info": {
   "codemirror_mode": {
    "name": "ipython",
    "version": 3
   },
   "file_extension": ".py",
   "mimetype": "text/x-python",
   "name": "python",
   "nbconvert_exporter": "python",
   "pygments_lexer": "ipython3",
   "version": "3.8.2"
  }
 },
 "nbformat": 4,
 "nbformat_minor": 4
}
