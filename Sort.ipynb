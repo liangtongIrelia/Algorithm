{
 "cells": [
  {
   "cell_type": "code",
   "execution_count": 1,
   "metadata": {},
   "outputs": [],
   "source": [
    "def mergeSort(A,p,r):\n",
    "    if p < r:\n",
    "        q = (p+r) >> 1\n",
    "        mergeSort(A,p,q)\n",
    "        mergeSort(A,q+1,r)\n",
    "        merge(A,p,q,r)\n",
    "def merge(A,p,q,r):\n",
    "    list1 = A[p:q+1]\n",
    "    list2 = A[q+1:r+1]\n",
    "    list1.append(float('Inf'))\n",
    "    list2.append(float('Inf'))\n",
    "    i,j = 0,0\n",
    "    for k in range(p,r+1):\n",
    "        if list1[i] <= list2[j]:\n",
    "            A[k] = list1[i]\n",
    "            i+=1\n",
    "        else:\n",
    "            A[k] = list2[j]\n",
    "            j+=1      "
   ]
  },
  {
   "cell_type": "code",
   "execution_count": 2,
   "metadata": {},
   "outputs": [],
   "source": [
    "A = [3,5,4,2,6,8,5,3,5,9,6,4,6,8,3,5,7,8,6,4,34,4]\n",
    "mergeSort(A,0,len(A)-1)"
   ]
  },
  {
   "cell_type": "code",
   "execution_count": 3,
   "metadata": {},
   "outputs": [],
   "source": [
    "A"
   ]
  },
  {
   "cell_type": "code",
   "execution_count": 4,
   "metadata": {},
   "outputs": [],
   "source": [
    "def insertSort(A):\n",
    "    for j in range(1,len(A)):\n",
    "        key = A[j]\n",
    "        i = j-1\n",
    "        while A[i] > key and i >=0:\n",
    "            A[i+1] = A[i]\n",
    "            i -= 1\n",
    "        A[i+1] = key\n",
    "        "
   ]
  },
  {
   "cell_type": "code",
   "execution_count": 5,
   "metadata": {},
   "outputs": [],
   "source": [
    "A = [5,4,3,2,1]\n",
    "insertSort(A)\n",
    "A "
   ]
  },
  {
   "cell_type": "code",
   "execution_count": 31,
   "metadata": {},
   "outputs": [],
   "source": [
    "def max_heapify(A,heap_size,i):\n",
    "    left = (i<<1)+1\n",
    "    right = left + 1\n",
    "    if left < heap_size and A[left] > A[i]:\n",
    "        largest = left\n",
    "    else:\n",
    "        largest = i\n",
    "    if right < heap_size and A[right] > A[largest]:\n",
    "        largest = right\n",
    "    if largest != i:\n",
    "        A[i],A[largest] = A[largest],A[i]\n",
    "        max_heapify(A,heap_size,largest)\n",
    "def build_heap(A):\n",
    "    heap_size = len(A)\n",
    "    for i in range(len(A)-1 >> 1,-1,-1):\n",
    "        max_heapify(A,heap_size,i)\n",
    "def heapSort(A):\n",
    "    build_heap(A)\n",
    "    for i in range(len(A)-1,0,-1):\n",
    "        A[i],A[0] = A[0],A[i]\n",
    "        max_heapify(A,i,0)"
   ]
  },
  {
   "cell_type": "code",
   "execution_count": 32,
   "metadata": {},
   "outputs": [
    {
     "data": {
      "text/plain": [
       "[1, 2, 3, 4, 7, 8, 9, 10, 14, 16]"
      ]
     },
     "execution_count": 32,
     "metadata": {},
     "output_type": "execute_result"
    }
   ],
   "source": [
    "A = [4,1,3,2,16,9,10,14,8,7]\n",
    "heapSort(A)\n",
    "A"
   ]
  },
  {
   "cell_type": "code",
   "execution_count": 42,
   "metadata": {},
   "outputs": [],
   "source": [
    "def quickSort(A,p,r):\n",
    "    if p < r:\n",
    "        q = partition(A,p,r)\n",
    "        quickSort(A,p,q-1)\n",
    "        quickSort(A,q+1,r)\n",
    "def partition(A,p,r):\n",
    "    key = A[r]\n",
    "    i = p-1\n",
    "    for j in range(p,r):\n",
    "        if A[j] <= key:\n",
    "            i+=1\n",
    "            A[i],A[j] = A[j],A[i]\n",
    "    A[i+1],A[r] = A[r],A[i+1]\n",
    "    return i+1"
   ]
  },
  {
   "cell_type": "code",
   "execution_count": 43,
   "metadata": {},
   "outputs": [
    {
     "data": {
      "text/plain": [
       "[1, 2, 3, 4, 5]"
      ]
     },
     "execution_count": 43,
     "metadata": {},
     "output_type": "execute_result"
    }
   ],
   "source": [
    "A = [5,4,3,2,1]\n",
    "quickSort(A,0,len(A)-1)\n",
    "A"
   ]
  },
  {
   "cell_type": "code",
   "execution_count": null,
   "metadata": {},
   "outputs": [],
   "source": [
    "def countingSort"
   ]
  },
  {
   "cell_type": "code",
   "execution_count": null,
   "metadata": {},
   "outputs": [],
   "source": [
    "A = [1,3,4,5,6]"
   ]
  }
 ],
 "metadata": {
  "kernelspec": {
   "display_name": "Python 3",
   "language": "python",
   "name": "python3"
  },
  "language_info": {
   "codemirror_mode": {
    "name": "ipython",
    "version": 3
   },
   "file_extension": ".py",
   "mimetype": "text/x-python",
   "name": "python",
   "nbconvert_exporter": "python",
   "pygments_lexer": "ipython3",
   "version": "3.7.8"
  }
 },
 "nbformat": 4,
 "nbformat_minor": 4
}
